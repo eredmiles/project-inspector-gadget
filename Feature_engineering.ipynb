{
 "cells": [
  {
   "cell_type": "code",
   "execution_count": 3,
   "metadata": {
    "collapsed": false
   },
   "outputs": [
    {
     "data": {
      "text/plain": [
       "Index([u'unnamed:_0', u'id', u'violation_last_modified_date', u'violation_date', u'violation_code', u'violation_status', u'violation_status_date', u'violation_description', u'violation_location', u'violation_inspector_comments', u'violation_ordinance', u'inspector_id', u'inspection_number', u'inspection_status', u'inspection_waived', u'inspection_category', u'department_bureau', u'address', u'property_group', u'ssa', u'latitude', u'longitude', u'location'], dtype='object')"
      ]
     },
     "execution_count": 3,
     "metadata": {},
     "output_type": "execute_result"
    }
   ],
   "source": [
    "import pandas as pd\n",
    "import numpy as np\n",
    "\n",
    "df = pd.read_csv('/home/keer/DSSG/data-challenges/BuildingInspections/data/Building_Violations_sample_50000.csv')\n",
    "\n",
    "import re\n",
    "\n",
    "def spaces_to_snake(column_name):\n",
    "    \"\"\"\n",
    "    converts a string that has spaces into snake_case\n",
    "    Example:\n",
    "        print camel_to_snake(\"KENNY BROUGHT HIS WIFE\")\n",
    "        > KENNY_BROUGHT_HIS_WIFE\n",
    "    To see how to apply this to camel case, see:\n",
    "        http://stackoverflow.com/questions/1175208/elegant-python-function-to-convert-camelcase-to-camel-case\n",
    "    \"\"\"\n",
    "    s = re.sub(r\"\\s+\", '_', column_name)\n",
    "    return s.lower()\n",
    "\n",
    "df.columns = [spaces_to_snake(col) for col in df.columns]\n",
    "\n",
    "\n",
    "df.columns"
   ]
  },
  {
   "cell_type": "code",
   "execution_count": 8,
   "metadata": {
    "collapsed": false
   },
   "outputs": [],
   "source": [
    "inspection_frequency=df[['location','id']].groupby('location').count()"
   ]
  },
  {
   "cell_type": "code",
   "execution_count": 14,
   "metadata": {
    "collapsed": false
   },
   "outputs": [],
   "source": [
    "violation_frequency=df[['location','id']][df['inspection_status']=='FAILED'].groupby(['location']).count()"
   ]
  },
  {
   "cell_type": "code",
   "execution_count": 83,
   "metadata": {
    "collapsed": false
   },
   "outputs": [
    {
     "data": {
      "text/html": [
       "<div style=\"max-height:1000px;max-width:1500px;overflow:auto;\">\n",
       "<table border=\"1\" class=\"dataframe\">\n",
       "  <thead>\n",
       "    <tr style=\"text-align: right;\">\n",
       "      <th></th>\n",
       "      <th>locations</th>\n",
       "      <th>unique_violation_codes</th>\n",
       "    </tr>\n",
       "  </thead>\n",
       "  <tbody>\n",
       "    <tr>\n",
       "      <th>0 </th>\n",
       "      <td>  (41.64692911211202,-87.61447966111751)</td>\n",
       "      <td> 1</td>\n",
       "    </tr>\n",
       "    <tr>\n",
       "      <th>1 </th>\n",
       "      <td> (41.647795874157346,-87.54018148507018)</td>\n",
       "      <td> 2</td>\n",
       "    </tr>\n",
       "    <tr>\n",
       "      <th>2 </th>\n",
       "      <td>  (41.64781346219875,-87.61421661741555)</td>\n",
       "      <td> 1</td>\n",
       "    </tr>\n",
       "    <tr>\n",
       "      <th>3 </th>\n",
       "      <td>   (41.6478148942479,-87.61645925569275)</td>\n",
       "      <td> 1</td>\n",
       "    </tr>\n",
       "    <tr>\n",
       "      <th>4 </th>\n",
       "      <td> (41.648032636313566,-87.61392876189757)</td>\n",
       "      <td> 2</td>\n",
       "    </tr>\n",
       "    <tr>\n",
       "      <th>5 </th>\n",
       "      <td> (41.648033312120475,-87.61449814827196)</td>\n",
       "      <td> 1</td>\n",
       "    </tr>\n",
       "    <tr>\n",
       "      <th>6 </th>\n",
       "      <td>  (41.64803352865298,-87.61558610924808)</td>\n",
       "      <td> 1</td>\n",
       "    </tr>\n",
       "    <tr>\n",
       "      <th>7 </th>\n",
       "      <td>  (41.64831133789253,-87.54450422674195)</td>\n",
       "      <td> 1</td>\n",
       "    </tr>\n",
       "    <tr>\n",
       "      <th>8 </th>\n",
       "      <td>  (41.64868870411254,-87.54488161972836)</td>\n",
       "      <td> 1</td>\n",
       "    </tr>\n",
       "    <tr>\n",
       "      <th>9 </th>\n",
       "      <td>  (41.64892413385787,-87.54628496618952)</td>\n",
       "      <td> 1</td>\n",
       "    </tr>\n",
       "    <tr>\n",
       "      <th>10</th>\n",
       "      <td> (41.649007538483055,-87.55916462709274)</td>\n",
       "      <td> 1</td>\n",
       "    </tr>\n",
       "    <tr>\n",
       "      <th>11</th>\n",
       "      <td>  (41.64919842993987,-87.54578457882039)</td>\n",
       "      <td> 1</td>\n",
       "    </tr>\n",
       "    <tr>\n",
       "      <th>12</th>\n",
       "      <td>  (41.649496000274205,-87.5385111493897)</td>\n",
       "      <td> 1</td>\n",
       "    </tr>\n",
       "    <tr>\n",
       "      <th>13</th>\n",
       "      <td>    (41.64954707623299,-87.547037252503)</td>\n",
       "      <td> 1</td>\n",
       "    </tr>\n",
       "    <tr>\n",
       "      <th>14</th>\n",
       "      <td>  (41.64968175814829,-87.54578298947494)</td>\n",
       "      <td> 1</td>\n",
       "    </tr>\n",
       "    <tr>\n",
       "      <th>15</th>\n",
       "      <td>  (41.64988698229695,-87.54607483071594)</td>\n",
       "      <td> 1</td>\n",
       "    </tr>\n",
       "    <tr>\n",
       "      <th>16</th>\n",
       "      <td>  (41.64993012181813,-87.54701738845729)</td>\n",
       "      <td> 2</td>\n",
       "    </tr>\n",
       "    <tr>\n",
       "      <th>17</th>\n",
       "      <td> (41.650343384158205,-87.54607282205943)</td>\n",
       "      <td> 1</td>\n",
       "    </tr>\n",
       "    <tr>\n",
       "      <th>18</th>\n",
       "      <td>   (41.65054094697297,-87.5482607057881)</td>\n",
       "      <td> 1</td>\n",
       "    </tr>\n",
       "    <tr>\n",
       "      <th>19</th>\n",
       "      <td>  (41.65062179173726,-87.54095925939012)</td>\n",
       "      <td> 1</td>\n",
       "    </tr>\n",
       "    <tr>\n",
       "      <th>20</th>\n",
       "      <td>   (41.6507152932624,-87.54824755540024)</td>\n",
       "      <td> 1</td>\n",
       "    </tr>\n",
       "    <tr>\n",
       "      <th>21</th>\n",
       "      <td>  (41.65074076438346,-87.54607322537252)</td>\n",
       "      <td> 1</td>\n",
       "    </tr>\n",
       "    <tr>\n",
       "      <th>22</th>\n",
       "      <td>  (41.65079720427416,-87.54578041438954)</td>\n",
       "      <td> 1</td>\n",
       "    </tr>\n",
       "    <tr>\n",
       "      <th>23</th>\n",
       "      <td>  (41.65091265199324,-87.54701434883746)</td>\n",
       "      <td> 1</td>\n",
       "    </tr>\n",
       "    <tr>\n",
       "      <th>24</th>\n",
       "      <td>  (41.65096740821523,-87.54578010931255)</td>\n",
       "      <td> 1</td>\n",
       "    </tr>\n",
       "  </tbody>\n",
       "</table>\n",
       "</div>"
      ],
      "text/plain": [
       "                                  locations  unique_violation_codes\n",
       "0    (41.64692911211202,-87.61447966111751)                       1\n",
       "1   (41.647795874157346,-87.54018148507018)                       2\n",
       "2    (41.64781346219875,-87.61421661741555)                       1\n",
       "3     (41.6478148942479,-87.61645925569275)                       1\n",
       "4   (41.648032636313566,-87.61392876189757)                       2\n",
       "5   (41.648033312120475,-87.61449814827196)                       1\n",
       "6    (41.64803352865298,-87.61558610924808)                       1\n",
       "7    (41.64831133789253,-87.54450422674195)                       1\n",
       "8    (41.64868870411254,-87.54488161972836)                       1\n",
       "9    (41.64892413385787,-87.54628496618952)                       1\n",
       "10  (41.649007538483055,-87.55916462709274)                       1\n",
       "11   (41.64919842993987,-87.54578457882039)                       1\n",
       "12   (41.649496000274205,-87.5385111493897)                       1\n",
       "13     (41.64954707623299,-87.547037252503)                       1\n",
       "14   (41.64968175814829,-87.54578298947494)                       1\n",
       "15   (41.64988698229695,-87.54607483071594)                       1\n",
       "16   (41.64993012181813,-87.54701738845729)                       2\n",
       "17  (41.650343384158205,-87.54607282205943)                       1\n",
       "18    (41.65054094697297,-87.5482607057881)                       1\n",
       "19   (41.65062179173726,-87.54095925939012)                       1\n",
       "20    (41.6507152932624,-87.54824755540024)                       1\n",
       "21   (41.65074076438346,-87.54607322537252)                       1\n",
       "22   (41.65079720427416,-87.54578041438954)                       1\n",
       "23   (41.65091265199324,-87.54701434883746)                       1\n",
       "24   (41.65096740821523,-87.54578010931255)                       1"
      ]
     },
     "execution_count": 83,
     "metadata": {},
     "output_type": "execute_result"
    }
   ],
   "source": [
    "dummy=df[['location','violation_code','id']][df['inspection_status']=='FAILED'].groupby(['location','violation_code']).count()\n",
    "dummy['id']=1\n",
    "violation_type_count=dummy.reset_index()[['location','id']].groupby('location').count().reset_index()\n",
    "violation_type_count.columns=['locations','unique_violation_codes']\n",
    "violation_type_count.head(25)\n"
   ]
  },
  {
   "cell_type": "code",
   "execution_count": 103,
   "metadata": {
    "collapsed": false
   },
   "outputs": [
    {
     "data": {
      "text/html": [
       "<div style=\"max-height:1000px;max-width:1500px;overflow:auto;\">\n",
       "<table border=\"1\" class=\"dataframe\">\n",
       "  <thead>\n",
       "    <tr style=\"text-align: right;\">\n",
       "      <th></th>\n",
       "      <th>unique_violation_codes</th>\n",
       "      <th>number_of_buildings</th>\n",
       "    </tr>\n",
       "  </thead>\n",
       "  <tbody>\n",
       "    <tr>\n",
       "      <th>0</th>\n",
       "      <td> 1</td>\n",
       "      <td> 20145</td>\n",
       "    </tr>\n",
       "    <tr>\n",
       "      <th>1</th>\n",
       "      <td> 2</td>\n",
       "      <td>  4921</td>\n",
       "    </tr>\n",
       "    <tr>\n",
       "      <th>2</th>\n",
       "      <td> 3</td>\n",
       "      <td>  1347</td>\n",
       "    </tr>\n",
       "    <tr>\n",
       "      <th>3</th>\n",
       "      <td> 4</td>\n",
       "      <td>   482</td>\n",
       "    </tr>\n",
       "    <tr>\n",
       "      <th>4</th>\n",
       "      <td> 5</td>\n",
       "      <td>   181</td>\n",
       "    </tr>\n",
       "  </tbody>\n",
       "</table>\n",
       "</div>"
      ],
      "text/plain": [
       "   unique_violation_codes  number_of_buildings\n",
       "0                       1                20145\n",
       "1                       2                 4921\n",
       "2                       3                 1347\n",
       "3                       4                  482\n",
       "4                       5                  181"
      ]
     },
     "execution_count": 103,
     "metadata": {},
     "output_type": "execute_result"
    }
   ],
   "source": [
    "%matplotlib inline\n",
    "\n",
    "violation_type_dist=violation_type_count.copy()\n",
    "violation_type_dist['locations']=1\n",
    "violation_type_dist=violation_type_dist.groupby('unique_violation_codes').count().reset_index()\n",
    "violation_type_dist.columns=['unique_violation_codes','number_of_buildings']\n",
    "violation_type_dist.head()"
   ]
  },
  {
   "cell_type": "code",
   "execution_count": null,
   "metadata": {
    "collapsed": false
   },
   "outputs": [],
   "source": []
  },
  {
   "cell_type": "code",
   "execution_count": null,
   "metadata": {
    "collapsed": true
   },
   "outputs": [],
   "source": []
  }
 ],
 "metadata": {
  "kernelspec": {
   "display_name": "Python 2",
   "language": "python",
   "name": "python2"
  },
  "language_info": {
   "codemirror_mode": {
    "name": "ipython",
    "version": 2
   },
   "file_extension": ".py",
   "mimetype": "text/x-python",
   "name": "python",
   "nbconvert_exporter": "python",
   "pygments_lexer": "ipython2",
   "version": "2.7.8"
  }
 },
 "nbformat": 4,
 "nbformat_minor": 0
}
